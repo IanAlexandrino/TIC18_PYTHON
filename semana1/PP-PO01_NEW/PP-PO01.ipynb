{
 "cells": [
  {
   "cell_type": "markdown",
   "id": "92119d4f",
   "metadata": {},
   "source": [
    "## Exercício 2: Manipulação de variáveis de tipo inteiro, explorando as características e os limites.\n",
    "\n",
    "   * Durante a aula foi apresentado o tipo de dado que permite representar um subconjunto dos números inteiros. Sobre estes tipos de dados:\n",
    "    \n",
    "        1. Demonstre como funcionam os operadores aritméticos e aritméticos compostos em Python e destaque as principais novidades e diferenças em relação ao conjunto de operadores com inteiros disponíveis em **C/C++**;"
   ]
  },
  {
   "cell_type": "markdown",
   "id": "f7a994fd",
   "metadata": {},
   "source": [
    "##### **OPERADORES ARITMÉTICOS**"
   ]
  },
  {
   "cell_type": "code",
   "execution_count": 14,
   "id": "004b200d",
   "metadata": {},
   "outputs": [
    {
     "name": "stdout",
     "output_type": "stream",
     "text": [
      "13\n"
     ]
    }
   ],
   "source": [
    "# Adição (+)\n",
    "\n",
    "a = 4\n",
    "b = 9\n",
    "resultado = a + b\n",
    "\n",
    "print(resultado)\n"
   ]
  },
  {
   "cell_type": "code",
   "execution_count": 4,
   "id": "d971cf66",
   "metadata": {},
   "outputs": [
    {
     "name": "stdout",
     "output_type": "stream",
     "text": [
      "5\n"
     ]
    }
   ],
   "source": [
    "# Subtração (-)\n",
    "\n",
    "a = 9\n",
    "b = 4\n",
    "resultado = a - b\n",
    "\n",
    "print(resultado)\n"
   ]
  },
  {
   "cell_type": "code",
   "execution_count": 5,
   "id": "bf787ada",
   "metadata": {},
   "outputs": [
    {
     "name": "stdout",
     "output_type": "stream",
     "text": [
      "36\n"
     ]
    }
   ],
   "source": [
    "# Multiplicação (*)\n",
    "\n",
    "a = 4\n",
    "b = 9\n",
    "resultado = a * b\n",
    "\n",
    "print(resultado)\n"
   ]
  },
  {
   "cell_type": "code",
   "execution_count": 6,
   "id": "637b7c47",
   "metadata": {},
   "outputs": [
    {
     "name": "stdout",
     "output_type": "stream",
     "text": [
      "0.4444444444444444\n"
     ]
    }
   ],
   "source": [
    "# Divisão (/)\n",
    "\n",
    "a = 9\n",
    "b = 4\n",
    "resultado = a / b\n",
    "\n",
    "print(resultado)\n"
   ]
  },
  {
   "cell_type": "code",
   "execution_count": 7,
   "id": "a4178834",
   "metadata": {},
   "outputs": [
    {
     "name": "stdout",
     "output_type": "stream",
     "text": [
      "0\n"
     ]
    }
   ],
   "source": [
    "# Divisão Inteira (//)\n",
    "\n",
    "a = 9\n",
    "b = 4\n",
    "resultado = a // b\n",
    "\n",
    "print(resultado)\n"
   ]
  },
  {
   "cell_type": "code",
   "execution_count": 8,
   "id": "f145831c",
   "metadata": {},
   "outputs": [
    {
     "name": "stdout",
     "output_type": "stream",
     "text": [
      "4\n"
     ]
    }
   ],
   "source": [
    "# Módulo (%)\n",
    "\n",
    "a = 4\n",
    "b = 9\n",
    "resultado = a % b\n",
    "\n",
    "print(resultado)\n"
   ]
  },
  {
   "cell_type": "code",
   "execution_count": 10,
   "id": "089c4181",
   "metadata": {},
   "outputs": [
    {
     "name": "stdout",
     "output_type": "stream",
     "text": [
      "6561\n"
     ]
    }
   ],
   "source": [
    "# Potenciação (**)\n",
    "\n",
    "a = 9\n",
    "b = 4\n",
    "resultado = a ** b\n",
    "\n",
    "print(resultado)\n"
   ]
  },
  {
   "cell_type": "markdown",
   "id": "a6bc0b86",
   "metadata": {},
   "source": [
    "##### **OPERADORES ARITMÉTICOS COMPOSTOS**\n",
    "\n",
    "Os operadores compostos são uma forma concisa de realizar operações aritméticas e atribuições em uma única expressão."
   ]
  },
  {
   "cell_type": "code",
   "execution_count": 13,
   "id": "43959503",
   "metadata": {},
   "outputs": [
    {
     "name": "stdout",
     "output_type": "stream",
     "text": [
      "13\n"
     ]
    }
   ],
   "source": [
    "# Adição e atribuição (+=)\n",
    "\n",
    "a = 4\n",
    "b = 9\n",
    "\n",
    "a += b\n",
    "\n",
    "print(a)\n"
   ]
  },
  {
   "cell_type": "code",
   "execution_count": 16,
   "id": "63fd8fe8",
   "metadata": {},
   "outputs": [
    {
     "name": "stdout",
     "output_type": "stream",
     "text": [
      "5\n"
     ]
    }
   ],
   "source": [
    "# Subtração e atribuição (-=)\n",
    "\n",
    "a = 9\n",
    "b = 4\n",
    "\n",
    "a -= b\n",
    "\n",
    "print(a)\n"
   ]
  },
  {
   "cell_type": "code",
   "execution_count": 17,
   "id": "4009dd93",
   "metadata": {},
   "outputs": [
    {
     "name": "stdout",
     "output_type": "stream",
     "text": [
      "36\n"
     ]
    }
   ],
   "source": [
    "# Multiplicação e atribuição (*=)\n",
    "\n",
    "a = 4\n",
    "b = 9\n",
    "\n",
    "a *= b\n",
    "\n",
    "print(a)\n"
   ]
  },
  {
   "cell_type": "code",
   "execution_count": 18,
   "id": "3e638602",
   "metadata": {},
   "outputs": [
    {
     "name": "stdout",
     "output_type": "stream",
     "text": [
      "2.25\n"
     ]
    }
   ],
   "source": [
    "# Divisão e atribuição (/=)\n",
    "\n",
    "a = 9\n",
    "b = 4\n",
    "\n",
    "a /= b\n",
    "\n",
    "print(a)\n"
   ]
  },
  {
   "cell_type": "code",
   "execution_count": 20,
   "id": "dd69fd1a",
   "metadata": {},
   "outputs": [
    {
     "name": "stdout",
     "output_type": "stream",
     "text": [
      "2\n"
     ]
    }
   ],
   "source": [
    "# Divisão inteira e atribuição (//=)\n",
    "\n",
    "a = 9\n",
    "b = 4\n",
    "\n",
    "a //= b\n",
    "\n",
    "print(a)\n"
   ]
  },
  {
   "cell_type": "code",
   "execution_count": 21,
   "id": "3510b4cc",
   "metadata": {},
   "outputs": [
    {
     "name": "stdout",
     "output_type": "stream",
     "text": [
      "4\n"
     ]
    }
   ],
   "source": [
    "# Módulo e atribuição (%=)\n",
    "\n",
    "a = 4\n",
    "b = 9\n",
    "\n",
    "a %= b\n",
    "\n",
    "print(a)\n"
   ]
  },
  {
   "cell_type": "code",
   "execution_count": 23,
   "id": "7d8c2a6b",
   "metadata": {},
   "outputs": [
    {
     "name": "stdout",
     "output_type": "stream",
     "text": [
      "6561\n"
     ]
    }
   ],
   "source": [
    "# Potenciação e atribuição (**=)\n",
    "\n",
    "a = 9\n",
    "b = 4\n",
    "\n",
    "a **= b\n",
    "\n",
    "print(a)\n"
   ]
  },
  {
   "cell_type": "markdown",
   "id": "621dd475",
   "metadata": {},
   "source": [
    "##### **DIFERENÇAS EM RELAÇÃO A C/C++**\n",
    "\n",
    "1. **Divisão de inteiros: **\n",
    "\n",
    "    Em Python, o operador de divisão (/) entre dois inteiros retorna um resultado de ponto flutuante, enquanto em C/C++, a divisão de inteiros retorna um inteiro truncado.\n",
    "    \n",
    "2. **Divisão inteira: **\n",
    "\n",
    "    Em Python, o operador de divisão inteira (//) retorna um número de ponto flutuante se pelo menos um dos operandos for um número de ponto flutuante. Em C/C++, a divisão inteira sempre retorna um número inteiro.\n",
    "    \n",
    "3. **Operadores de potenciação: **\n",
    "\n",
    "    Python introduziu o operador de potenciação dupla (**) para facilitar o cálculo de potências.\n",
    "    \n",
    "4. **Operadores compostos: **\n",
    "\n",
    "    Python oferece operadores compostos (+=, -=, etc.) que são mais concisos do que em C/C++.\n",
    "    \n",
    "5. **Ausência de incrementos/decrementos: **\n",
    "\n",
    "    Python não possui operadores de incremento (++) e decremento (--), presentes em C/C++. Em Python, você usaria += 1 ou -= 1 para atingir o mesmo efeito.\n",
    "    \n",
    "6. **Tipo dinâmico: **\n",
    "\n",
    "    Python é uma linguagem de tipagem dinâmica, ao contrário de C/C++, o que significa que você não precisa declarar explicitamente o tipo de uma variável. Isso afeta a forma como as operações são realizadas e como os resultados são tratados."
   ]
  },
  {
   "cell_type": "markdown",
   "id": "9ffd975e",
   "metadata": {},
   "source": [
    "        2. Demonstre a possibilidade de representar números inteiros significativamente grandes calculando o fatorial de 30 e comparando o resultado com o maior valor inteiro que pode ser representado em **C/C++**;"
   ]
  },
  {
   "cell_type": "code",
   "execution_count": 24,
   "id": "bdb3a53a",
   "metadata": {},
   "outputs": [
    {
     "name": "stdout",
     "output_type": "stream",
     "text": [
      "O fatorial de 30 é: 265252859812191058636308480000000\n",
      "O maior valor inteiro em C/C++ é: 9223372036854775807\n"
     ]
    }
   ],
   "source": [
    "def fatorial(n):\n",
    "    if n == 0 or n == 1:\n",
    "        return 1\n",
    "    else:\n",
    "        return n * fatorial(n - 1)\n",
    "\n",
    "# Calcular o fatorial de 30\n",
    "fatorial_30 = fatorial(30)\n",
    "\n",
    "# Imprimir o resultado\n",
    "print(f'O fatorial de 30 é: {fatorial_30}')\n",
    "\n",
    "# Imprimir o maior valor inteiro em C/C++\n",
    "import sys\n",
    "print(f'O maior valor inteiro em C/C++ é: {sys.maxsize}')\n"
   ]
  },
  {
   "cell_type": "markdown",
   "id": "d53b5c07",
   "metadata": {},
   "source": [
    "**O fatorial de 30 em Python é muito maior que o maior valor inteiro representável em C/C++. Isso destaca a flexibilidade e a capacidade de lidar com números grandes em Python devido à sua precisão arbitrária para inteiros.**"
   ]
  },
  {
   "cell_type": "markdown",
   "id": "118e03a7",
   "metadata": {},
   "source": [
    "        3. As variáveis numéricas são imutáveis. Demonstre com exemplos as implicações desta afirmação;"
   ]
  },
  {
   "cell_type": "markdown",
   "id": "c2c0b1c0",
   "metadata": {},
   "source": [
    "##### **EXEMPLO 1: IMUTABILIDADE DE INTEIROS**"
   ]
  },
  {
   "cell_type": "code",
   "execution_count": 28,
   "id": "4efa9128",
   "metadata": {},
   "outputs": [
    {
     "ename": "TypeError",
     "evalue": "'int' object does not support item assignment",
     "output_type": "error",
     "traceback": [
      "\u001b[1;31m---------------------------------------------------------------------------\u001b[0m",
      "\u001b[1;31mTypeError\u001b[0m                                 Traceback (most recent call last)",
      "Cell \u001b[1;32mIn[28], line 3\u001b[0m\n\u001b[0;32m      1\u001b[0m a \u001b[38;5;241m=\u001b[39m \u001b[38;5;241m4\u001b[39m\n\u001b[1;32m----> 3\u001b[0m a[\u001b[38;5;241m0\u001b[39m] \u001b[38;5;241m=\u001b[39m \u001b[38;5;241m5\u001b[39m\n\u001b[0;32m      5\u001b[0m \u001b[38;5;28mprint\u001b[39m(a)\n",
      "\u001b[1;31mTypeError\u001b[0m: 'int' object does not support item assignment"
     ]
    }
   ],
   "source": [
    "a = 4\n",
    "\n",
    "a[0] = 5\n"
   ]
  },
  {
   "cell_type": "markdown",
   "id": "993d7987",
   "metadata": {},
   "source": [
    "##### **EXEMPLO 2: IMUTABILIDADE DE FLOATS**"
   ]
  },
  {
   "cell_type": "code",
   "execution_count": 29,
   "id": "4183e078",
   "metadata": {},
   "outputs": [
    {
     "ename": "TypeError",
     "evalue": "'float' object does not support item assignment",
     "output_type": "error",
     "traceback": [
      "\u001b[1;31m---------------------------------------------------------------------------\u001b[0m",
      "\u001b[1;31mTypeError\u001b[0m                                 Traceback (most recent call last)",
      "Cell \u001b[1;32mIn[29], line 3\u001b[0m\n\u001b[0;32m      1\u001b[0m a \u001b[38;5;241m=\u001b[39m \u001b[38;5;241m9.78\u001b[39m\n\u001b[1;32m----> 3\u001b[0m a[\u001b[38;5;241m0\u001b[39m] \u001b[38;5;241m=\u001b[39m \u001b[38;5;241m4\u001b[39m\n",
      "\u001b[1;31mTypeError\u001b[0m: 'float' object does not support item assignment"
     ]
    }
   ],
   "source": [
    "a = 9.78\n",
    "\n",
    "a[0] = 4"
   ]
  },
  {
   "cell_type": "markdown",
   "id": "01429728",
   "metadata": {},
   "source": [
    "##### **IMPLICAÇÕES DA IMUTABILIDADE**\n",
    "\n",
    "1. **Reatribuição: **\n",
    "\n",
    "    Se você deseja alterar o valor de uma variável numérica, precisa reatribuir um novo valor à variável. Isso cria uma nova referência para a variável."
   ]
  },
  {
   "cell_type": "code",
   "execution_count": 30,
   "id": "143a333d",
   "metadata": {},
   "outputs": [
    {
     "name": "stdout",
     "output_type": "stream",
     "text": [
      "5\n"
     ]
    }
   ],
   "source": [
    "a = 4\n",
    "\n",
    "a = a + 1\n",
    "\n",
    "print (a)"
   ]
  },
  {
   "cell_type": "markdown",
   "id": "bd32b825",
   "metadata": {},
   "source": [
    "2. **Operações matemáticas: **\n",
    "\n",
    "    As operações matemáticas não modificam diretamente a variável, mas criam um novo valor calculado."
   ]
  },
  {
   "cell_type": "code",
   "execution_count": 35,
   "id": "d54263b6",
   "metadata": {},
   "outputs": [
    {
     "name": "stdout",
     "output_type": "stream",
     "text": [
      "19.56\n"
     ]
    }
   ],
   "source": [
    "a = 9.78\n",
    "\n",
    "a = a * 2\n",
    "\n",
    "print(a)"
   ]
  },
  {
   "cell_type": "markdown",
   "id": "7638ddc9",
   "metadata": {},
   "source": [
    "3. **Objetos imutáveis: **\n",
    "\n",
    "    A imutabilidade se estende a outros tipos de dados imutáveis em Python, como strings e tuplas. Isso tem implicações em termos de como esses objetos são manipulados e passados entre funções."
   ]
  },
  {
   "cell_type": "code",
   "execution_count": 36,
   "id": "e758964c",
   "metadata": {},
   "outputs": [
    {
     "ename": "TypeError",
     "evalue": "'str' object does not support item assignment",
     "output_type": "error",
     "traceback": [
      "\u001b[1;31m---------------------------------------------------------------------------\u001b[0m",
      "\u001b[1;31mTypeError\u001b[0m                                 Traceback (most recent call last)",
      "Cell \u001b[1;32mIn[36], line 3\u001b[0m\n\u001b[0;32m      1\u001b[0m s \u001b[38;5;241m=\u001b[39m \u001b[38;5;124m\"\u001b[39m\u001b[38;5;124mString\u001b[39m\u001b[38;5;124m\"\u001b[39m\n\u001b[1;32m----> 3\u001b[0m s[\u001b[38;5;241m0\u001b[39m] \u001b[38;5;241m=\u001b[39m \u001b[38;5;124m\"\u001b[39m\u001b[38;5;124mS\u001b[39m\u001b[38;5;124m\"\u001b[39m\n",
      "\u001b[1;31mTypeError\u001b[0m: 'str' object does not support item assignment"
     ]
    }
   ],
   "source": [
    "s = \"String\"\n",
    "\n",
    "s[0] = \"S\""
   ]
  },
  {
   "cell_type": "markdown",
   "id": "7a780cf8",
   "metadata": {},
   "source": [
    "4. **Eficiência e segurança: **\n",
    "\n",
    "    A imutabilidade permite otimizações de desempenho, já que os valores não precisam ser constantemente realocados na memória quando são modificados. Além disso, ela contribui para a segurança do código, evitando modificações acidentais."
   ]
  },
  {
   "cell_type": "markdown",
   "id": "3ab1a83c",
   "metadata": {},
   "source": [
    "        4. Verifique quais métodos estão disponíveis para as variáveis inteiras; "
   ]
  },
  {
   "cell_type": "markdown",
   "id": "21699897",
   "metadata": {},
   "source": [
    "1. **bit_length()**\n",
    "\n",
    "    Retorna o número mínimo de bits necessário para representar o valor em binário, excluindo o sinal e os zeros à esquerda."
   ]
  },
  {
   "cell_type": "code",
   "execution_count": 37,
   "id": "d01d52eb",
   "metadata": {},
   "outputs": [
    {
     "name": "stdout",
     "output_type": "stream",
     "text": [
      "4\n"
     ]
    }
   ],
   "source": [
    "f = 14\n",
    "\n",
    "print(f.bit_length())"
   ]
  },
  {
   "cell_type": "markdown",
   "id": "a901fd37",
   "metadata": {},
   "source": [
    "2. **to_bytes(length, byteorder, *, signed=False)**\n",
    "\n",
    "    Converte o número para uma sequência de bytes."
   ]
  },
  {
   "cell_type": "code",
   "execution_count": 38,
   "id": "8c05644b",
   "metadata": {},
   "outputs": [
    {
     "name": "stdout",
     "output_type": "stream",
     "text": [
      "b'\\x0b;'\n"
     ]
    }
   ],
   "source": [
    "f = 2875\n",
    "\n",
    "ex_byte = f.to_bytes(2, byteorder='big')\n",
    "\n",
    "print(ex_byte)"
   ]
  },
  {
   "cell_type": "markdown",
   "id": "a1acad09",
   "metadata": {},
   "source": [
    "3. **from_bytes(bytes, byteorder, *, signed=False)**\n",
    "\n",
    "    Converte uma sequência de bytes de volta para um número inteiro."
   ]
  },
  {
   "cell_type": "code",
   "execution_count": 39,
   "id": "df1d6f90",
   "metadata": {},
   "outputs": [
    {
     "name": "stdout",
     "output_type": "stream",
     "text": [
      "2875\n"
     ]
    }
   ],
   "source": [
    "h = int.from_bytes(ex_byte, byteorder='big')\n",
    "\n",
    "print(h)"
   ]
  },
  {
   "cell_type": "markdown",
   "id": "5f13743b",
   "metadata": {},
   "source": [
    "4. **conjugate()**\n",
    "\n",
    "    Retorna o conjugado do número complexo se o número for complexo (parte imaginária diferente de zero)."
   ]
  },
  {
   "cell_type": "code",
   "execution_count": 51,
   "id": "30c21a55",
   "metadata": {},
   "outputs": [
    {
     "name": "stdout",
     "output_type": "stream",
     "text": [
      "14\n"
     ]
    }
   ],
   "source": [
    "f = 5\n",
    "h = x.conjugate()\n",
    "\n",
    "print(h)"
   ]
  },
  {
   "cell_type": "markdown",
   "id": "af5671f6",
   "metadata": {},
   "source": [
    "5. **real**\n",
    "\n",
    "    Retorna a parte real do número complexo."
   ]
  },
  {
   "cell_type": "code",
   "execution_count": 48,
   "id": "2a07971c",
   "metadata": {},
   "outputs": [
    {
     "name": "stdout",
     "output_type": "stream",
     "text": [
      "2.0\n"
     ]
    }
   ],
   "source": [
    "f = 2 + 5j\n",
    "nmr_real = f.real\n",
    "\n",
    "print(nmr_real)"
   ]
  },
  {
   "cell_type": "markdown",
   "id": "52cc4a92",
   "metadata": {},
   "source": [
    "6. **imag**\n",
    "\n",
    "    Retorna a parte imaginária do número complexo."
   ]
  },
  {
   "cell_type": "code",
   "execution_count": 49,
   "id": "845c8768",
   "metadata": {},
   "outputs": [
    {
     "name": "stdout",
     "output_type": "stream",
     "text": [
      "5.0\n"
     ]
    }
   ],
   "source": [
    "f = 2 + 5j\n",
    "nmr_imag = f.imag\n",
    "\n",
    "print(nmr_imag)"
   ]
  },
  {
   "cell_type": "markdown",
   "id": "529505fa",
   "metadata": {},
   "source": [
    "7. **abs()**\n",
    "\n",
    "    Retorna o valor absoluto do número."
   ]
  },
  {
   "cell_type": "code",
   "execution_count": 50,
   "id": "cc0a2297",
   "metadata": {},
   "outputs": [
    {
     "name": "stdout",
     "output_type": "stream",
     "text": [
      "10\n"
     ]
    }
   ],
   "source": [
    "f = -10\n",
    "nmr_abs = abs(f)\n",
    "\n",
    "print(nmr_abs)"
   ]
  },
  {
   "cell_type": "markdown",
   "id": "b17b8d8e",
   "metadata": {},
   "source": [
    "8. **__add__(other)**\n",
    "\n",
    "    Adiciona o valor de outro número."
   ]
  },
  {
   "cell_type": "code",
   "execution_count": 55,
   "id": "5de11711",
   "metadata": {},
   "outputs": [
    {
     "name": "stdout",
     "output_type": "stream",
     "text": [
      "11\n"
     ]
    }
   ],
   "source": [
    "f = 6\n",
    "h = 5\n",
    "resultado = f.__add__(h)\n",
    "\n",
    "print(resultado)"
   ]
  },
  {
   "cell_type": "markdown",
   "id": "0fdbc8a9",
   "metadata": {},
   "source": [
    "9. **__sub__(other)**\n",
    "\n",
    "    Subtrai o valor de outro número."
   ]
  },
  {
   "cell_type": "code",
   "execution_count": 56,
   "id": "71f511ba",
   "metadata": {},
   "outputs": [
    {
     "name": "stdout",
     "output_type": "stream",
     "text": [
      "1\n"
     ]
    }
   ],
   "source": [
    "f = 6\n",
    "h = 5\n",
    "resultado = f.__sub__(h)\n",
    "\n",
    "print(resultado)"
   ]
  },
  {
   "cell_type": "markdown",
   "id": "4bed0c32",
   "metadata": {},
   "source": [
    "10. **__mul__(other)**\n",
    "\n",
    "    Multiplica o valor por outro número."
   ]
  },
  {
   "cell_type": "code",
   "execution_count": 57,
   "id": "f9e16d6f",
   "metadata": {},
   "outputs": [
    {
     "name": "stdout",
     "output_type": "stream",
     "text": [
      "30\n"
     ]
    }
   ],
   "source": [
    "f = 6\n",
    "h = 5\n",
    "resultado = f.__mul__(h)\n",
    "\n",
    "print(resultado)"
   ]
  },
  {
   "cell_type": "markdown",
   "id": "87a4f399",
   "metadata": {},
   "source": [
    "11. **__truediv__(other)**\n",
    "\n",
    "    Divide o valor por outro número, retornando um resultado de ponto flutuante."
   ]
  },
  {
   "cell_type": "code",
   "execution_count": 58,
   "id": "2ba60437",
   "metadata": {},
   "outputs": [
    {
     "name": "stdout",
     "output_type": "stream",
     "text": [
      "1.2\n"
     ]
    }
   ],
   "source": [
    "f = 6\n",
    "h = 5\n",
    "resultado = f.__truediv__(h)\n",
    "\n",
    "print(resultado)"
   ]
  },
  {
   "cell_type": "markdown",
   "id": "05ebfcb8",
   "metadata": {},
   "source": [
    "12. **__floordiv__(other)**\n",
    "\n",
    "    Divide o valor por outro número, retornando a parte inteira do resultado."
   ]
  },
  {
   "cell_type": "code",
   "execution_count": 59,
   "id": "5465f500",
   "metadata": {},
   "outputs": [
    {
     "name": "stdout",
     "output_type": "stream",
     "text": [
      "1\n"
     ]
    }
   ],
   "source": [
    "f = 6\n",
    "h = 5\n",
    "resultado = f.__floordiv__(h)\n",
    "\n",
    "print(resultado)"
   ]
  },
  {
   "cell_type": "markdown",
   "id": "2eba37bd",
   "metadata": {},
   "source": [
    "13. **__mod__(other)**\n",
    "\n",
    "    Retorna o resto da divisão entre o valor e outro número."
   ]
  },
  {
   "cell_type": "code",
   "execution_count": 60,
   "id": "9defa5e0",
   "metadata": {},
   "outputs": [
    {
     "name": "stdout",
     "output_type": "stream",
     "text": [
      "1\n"
     ]
    }
   ],
   "source": [
    "f = 6\n",
    "h = 5\n",
    "resultado = f.__mod__(h)\n",
    "\n",
    "print(resultado)"
   ]
  },
  {
   "cell_type": "markdown",
   "id": "ed3f25cc",
   "metadata": {},
   "source": [
    "**Esses são apenas alguns dos métodos mais usados associados a objetos do tipo int em Python. A documentação oficial do Python oferece uma lista completa e detalhada de métodos e operadores disponíveis para objetos inteiros.**"
   ]
  },
  {
   "cell_type": "markdown",
   "id": "d843f9ba",
   "metadata": {},
   "source": [
    "## Exercício 3: Manipulação de variáveis de tipo string e explorando o uso de print.\n",
    "\n",
    "   * Os caracteres numéricos aparecem na tabela ASCII, e em outras, numa sequência que começa pelo caractere ‘0’ até o caractere ‘9’. As strings em Python são formadas por conjuntos de caracteres que podem ser tratadas também como valores numéricos. Com base nestas afirmações desenvolva um programa em Python que:\n",
    "   \n",
    "        1. Imprima na tela, utilizando print, cada um dos caracteres numéricos e seu correspondente código numérico. Pesquise como modificar o comportamento do print para imprimir como caractere e como número. Exemplo:‘0’ - 48, ‘1’ - 49 … ‘9’ - 57\n",
    "\n",
    "        2. Modifique o exercício anterior para que a saída imprima também o código numérico em octal e em hexadecimal.\n",
    "\n",
    "        3. Acrescente ao código do exercício anterior a possibilidade de ler um caractere qualquer e imprima no mesmo formato do inciso anterior. Pesquise como ler um valor da entrada padrão.\n",
    "\n",
    "        4. Pesquise como trabalha Python os caracteres especiais, ‘ç’ e ‘ã’ por exemplo. Acrescente no código do exercício anterior um exemplo que demonstra como usar este recurso.\n"
   ]
  }
 ],
 "metadata": {
  "kernelspec": {
   "display_name": "Python 3 (ipykernel)",
   "language": "python",
   "name": "python3"
  },
  "language_info": {
   "codemirror_mode": {
    "name": "ipython",
    "version": 3
   },
   "file_extension": ".py",
   "mimetype": "text/x-python",
   "name": "python",
   "nbconvert_exporter": "python",
   "pygments_lexer": "ipython3",
   "version": "3.11.5"
  }
 },
 "nbformat": 4,
 "nbformat_minor": 5
}
