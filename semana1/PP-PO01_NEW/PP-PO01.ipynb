{
 "cells": [
  {
   "cell_type": "markdown",
   "id": "677f917d",
   "metadata": {},
   "source": [
    "## Exercício 2: Manipulação de variáveis de tipo inteiro, explorando as características e os limites.\n",
    "\n",
    "   * Durante a aula foi apresentado o tipo de dado que permite representar um subconjunto dos números inteiros. Sobre estes tipos de dados:\n",
    "    \n",
    "        1. Demonstre como funcionam os operadores aritméticos e aritméticos compostos em Python e destaque as principais novidades e diferenças em relação ao conjunto de operadores com inteiros disponíveis em **C/C++**;"
   ]
  },
  {
   "cell_type": "markdown",
   "id": "85d8f294",
   "metadata": {},
   "source": [
    "##### **OPERADORES ARITMÉTICOS**"
   ]
  },
  {
   "cell_type": "code",
   "execution_count": 14,
   "id": "6eb954cd",
   "metadata": {},
   "outputs": [
    {
     "name": "stdout",
     "output_type": "stream",
     "text": [
      "13\n"
     ]
    }
   ],
   "source": [
    "# Adição (+)\n",
    "\n",
    "a = 4\n",
    "b = 9\n",
    "resultado = a + b\n",
    "\n",
    "print(resultado)\n"
   ]
  },
  {
   "cell_type": "code",
   "execution_count": 4,
   "id": "7583c2ee",
   "metadata": {},
   "outputs": [
    {
     "name": "stdout",
     "output_type": "stream",
     "text": [
      "5\n"
     ]
    }
   ],
   "source": [
    "# Subtração (-)\n",
    "\n",
    "a = 9\n",
    "b = 4\n",
    "resultado = a - b\n",
    "\n",
    "print(resultado)\n"
   ]
  },
  {
   "cell_type": "code",
   "execution_count": 5,
   "id": "7bc8528c",
   "metadata": {},
   "outputs": [
    {
     "name": "stdout",
     "output_type": "stream",
     "text": [
      "36\n"
     ]
    }
   ],
   "source": [
    "# Multiplicação (*)\n",
    "\n",
    "a = 4\n",
    "b = 9\n",
    "resultado = a * b\n",
    "\n",
    "print(resultado)\n"
   ]
  },
  {
   "cell_type": "code",
   "execution_count": 6,
   "id": "703b1a2d",
   "metadata": {},
   "outputs": [
    {
     "name": "stdout",
     "output_type": "stream",
     "text": [
      "0.4444444444444444\n"
     ]
    }
   ],
   "source": [
    "# Divisão (/)\n",
    "\n",
    "a = 9\n",
    "b = 4\n",
    "resultado = a / b\n",
    "\n",
    "print(resultado)\n"
   ]
  },
  {
   "cell_type": "code",
   "execution_count": 7,
   "id": "b2bf7003",
   "metadata": {},
   "outputs": [
    {
     "name": "stdout",
     "output_type": "stream",
     "text": [
      "0\n"
     ]
    }
   ],
   "source": [
    "# Divisão Inteira (//)\n",
    "\n",
    "a = 9\n",
    "b = 4\n",
    "resultado = a // b\n",
    "\n",
    "print(resultado)\n"
   ]
  },
  {
   "cell_type": "code",
   "execution_count": 8,
   "id": "fe295ee6",
   "metadata": {},
   "outputs": [
    {
     "name": "stdout",
     "output_type": "stream",
     "text": [
      "4\n"
     ]
    }
   ],
   "source": [
    "# Módulo (%)\n",
    "\n",
    "a = 4\n",
    "b = 9\n",
    "resultado = a % b\n",
    "\n",
    "print(resultado)\n"
   ]
  },
  {
   "cell_type": "code",
   "execution_count": 10,
   "id": "a5ea3d12",
   "metadata": {},
   "outputs": [
    {
     "name": "stdout",
     "output_type": "stream",
     "text": [
      "6561\n"
     ]
    }
   ],
   "source": [
    "# Potenciação (**)\n",
    "\n",
    "a = 9\n",
    "b = 4\n",
    "resultado = a ** b\n",
    "\n",
    "print(resultado)\n"
   ]
  },
  {
   "cell_type": "markdown",
   "id": "76cc71a5",
   "metadata": {},
   "source": [
    "##### **OPERADORES ARITMÉTICOS COMPOSTOS**\n",
    "\n",
    "Os operadores compostos são uma forma concisa de realizar operações aritméticas e atribuições em uma única expressão."
   ]
  },
  {
   "cell_type": "code",
   "execution_count": 13,
   "id": "63624ef9",
   "metadata": {},
   "outputs": [
    {
     "name": "stdout",
     "output_type": "stream",
     "text": [
      "13\n"
     ]
    }
   ],
   "source": [
    "# Adição e atribuição (+=)\n",
    "\n",
    "a = 4\n",
    "b = 9\n",
    "\n",
    "a += b\n",
    "\n",
    "print(a)\n"
   ]
  },
  {
   "cell_type": "code",
   "execution_count": 16,
   "id": "df621681",
   "metadata": {},
   "outputs": [
    {
     "name": "stdout",
     "output_type": "stream",
     "text": [
      "5\n"
     ]
    }
   ],
   "source": [
    "# Subtração e atribuição (-=)\n",
    "\n",
    "a = 9\n",
    "b = 4\n",
    "\n",
    "a -= b\n",
    "\n",
    "print(a)\n"
   ]
  },
  {
   "cell_type": "code",
   "execution_count": 17,
   "id": "ea8cdc9f",
   "metadata": {},
   "outputs": [
    {
     "name": "stdout",
     "output_type": "stream",
     "text": [
      "36\n"
     ]
    }
   ],
   "source": [
    "# Multiplicação e atribuição (*=)\n",
    "\n",
    "a = 4\n",
    "b = 9\n",
    "\n",
    "a *= b\n",
    "\n",
    "print(a)\n"
   ]
  },
  {
   "cell_type": "code",
   "execution_count": 18,
   "id": "57b24937",
   "metadata": {},
   "outputs": [
    {
     "name": "stdout",
     "output_type": "stream",
     "text": [
      "2.25\n"
     ]
    }
   ],
   "source": [
    "# Divisão e atribuição (/=)\n",
    "\n",
    "a = 9\n",
    "b = 4\n",
    "\n",
    "a /= b\n",
    "\n",
    "print(a)\n"
   ]
  },
  {
   "cell_type": "code",
   "execution_count": 20,
   "id": "19f8cd22",
   "metadata": {},
   "outputs": [
    {
     "name": "stdout",
     "output_type": "stream",
     "text": [
      "2\n"
     ]
    }
   ],
   "source": [
    "# Divisão inteira e atribuição (//=)\n",
    "\n",
    "a = 9\n",
    "b = 4\n",
    "\n",
    "a //= b\n",
    "\n",
    "print(a)\n"
   ]
  },
  {
   "cell_type": "code",
   "execution_count": 21,
   "id": "499caceb",
   "metadata": {},
   "outputs": [
    {
     "name": "stdout",
     "output_type": "stream",
     "text": [
      "4\n"
     ]
    }
   ],
   "source": [
    "# Módulo e atribuição (%=)\n",
    "\n",
    "a = 4\n",
    "b = 9\n",
    "\n",
    "a %= b\n",
    "\n",
    "print(a)\n"
   ]
  },
  {
   "cell_type": "code",
   "execution_count": 23,
   "id": "f6c11324",
   "metadata": {},
   "outputs": [
    {
     "name": "stdout",
     "output_type": "stream",
     "text": [
      "6561\n"
     ]
    }
   ],
   "source": [
    "# Potenciação e atribuição (**=)\n",
    "\n",
    "a = 9\n",
    "b = 4\n",
    "\n",
    "a **= b\n",
    "\n",
    "print(a)\n"
   ]
  },
  {
   "cell_type": "markdown",
   "id": "dd242cf8",
   "metadata": {},
   "source": [
    "##### **DIFERENÇAS EM RELAÇÃO A C/C++**\n",
    "\n",
    "1. **Divisão de inteiros: **\n",
    "\n",
    "    Em Python, o operador de divisão (/) entre dois inteiros retorna um resultado de ponto flutuante, enquanto em C/C++, a divisão de inteiros retorna um inteiro truncado.\n",
    "    \n",
    "2. **Divisão inteira: **\n",
    "\n",
    "    Em Python, o operador de divisão inteira (//) retorna um número de ponto flutuante se pelo menos um dos operandos for um número de ponto flutuante. Em C/C++, a divisão inteira sempre retorna um número inteiro.\n",
    "    \n",
    "3. **Operadores de potenciação: **\n",
    "\n",
    "    Python introduziu o operador de potenciação dupla (**) para facilitar o cálculo de potências.\n",
    "    \n",
    "4. **Operadores compostos: **\n",
    "\n",
    "    Python oferece operadores compostos (+=, -=, etc.) que são mais concisos do que em C/C++.\n",
    "    \n",
    "5. **Ausência de incrementos/decrementos: **\n",
    "\n",
    "    Python não possui operadores de incremento (++) e decremento (--), presentes em C/C++. Em Python, você usaria += 1 ou -= 1 para atingir o mesmo efeito.\n",
    "    \n",
    "6. **Tipo dinâmico: **\n",
    "\n",
    "    Python é uma linguagem de tipagem dinâmica, ao contrário de C/C++, o que significa que você não precisa declarar explicitamente o tipo de uma variável. Isso afeta a forma como as operações são realizadas e como os resultados são tratados."
   ]
  },
  {
   "cell_type": "markdown",
   "id": "f90e2c02",
   "metadata": {},
   "source": [
    "        2. Demonstre a possibilidade de representar números inteiros significativamente grandes calculando o fatorial de 30 e comparando o resultado com o maior valor inteiro que pode ser representado em **C/C++**;"
   ]
  },
  {
   "cell_type": "code",
   "execution_count": 24,
   "id": "f1f74a44",
   "metadata": {},
   "outputs": [
    {
     "name": "stdout",
     "output_type": "stream",
     "text": [
      "O fatorial de 30 é: 265252859812191058636308480000000\n",
      "O maior valor inteiro em C/C++ é: 9223372036854775807\n"
     ]
    }
   ],
   "source": [
    "def fatorial(n):\n",
    "    if n == 0 or n == 1:\n",
    "        return 1\n",
    "    else:\n",
    "        return n * fatorial(n - 1)\n",
    "\n",
    "# Calcular o fatorial de 30\n",
    "fatorial_30 = fatorial(30)\n",
    "\n",
    "# Imprimir o resultado\n",
    "print(f'O fatorial de 30 é: {fatorial_30}')\n",
    "\n",
    "# Imprimir o maior valor inteiro em C/C++\n",
    "import sys\n",
    "print(f'O maior valor inteiro em C/C++ é: {sys.maxsize}')\n"
   ]
  },
  {
   "cell_type": "markdown",
   "id": "27ed2077",
   "metadata": {},
   "source": [
    "**O fatorial de 30 em Python é muito maior que o maior valor inteiro representável em C/C++. Isso destaca a flexibilidade e a capacidade de lidar com números grandes em Python devido à sua precisão arbitrária para inteiros.**"
   ]
  },
  {
   "cell_type": "markdown",
   "id": "a8bde149",
   "metadata": {},
   "source": [
    "        3. As variáveis numéricas são imutáveis. Demonstre com exemplos as implicações desta afirmação;"
   ]
  },
  {
   "cell_type": "markdown",
   "id": "ffe50e19",
   "metadata": {},
   "source": [
    "##### **EXEMPLO 1: IMUTABILIDADE DE INTEIROS**"
   ]
  },
  {
   "cell_type": "code",
   "execution_count": 28,
   "id": "7d5595a2",
   "metadata": {},
   "outputs": [
    {
     "ename": "TypeError",
     "evalue": "'int' object does not support item assignment",
     "output_type": "error",
     "traceback": [
      "\u001b[1;31m---------------------------------------------------------------------------\u001b[0m",
      "\u001b[1;31mTypeError\u001b[0m                                 Traceback (most recent call last)",
      "Cell \u001b[1;32mIn[28], line 3\u001b[0m\n\u001b[0;32m      1\u001b[0m a \u001b[38;5;241m=\u001b[39m \u001b[38;5;241m4\u001b[39m\n\u001b[1;32m----> 3\u001b[0m a[\u001b[38;5;241m0\u001b[39m] \u001b[38;5;241m=\u001b[39m \u001b[38;5;241m5\u001b[39m\n\u001b[0;32m      5\u001b[0m \u001b[38;5;28mprint\u001b[39m(a)\n",
      "\u001b[1;31mTypeError\u001b[0m: 'int' object does not support item assignment"
     ]
    }
   ],
   "source": [
    "a = 4\n",
    "\n",
    "a[0] = 5\n"
   ]
  },
  {
   "cell_type": "markdown",
   "id": "37b52a9f",
   "metadata": {},
   "source": [
    "##### **EXEMPLO 2: IMUTABILIDADE DE FLOATS**"
   ]
  },
  {
   "cell_type": "code",
   "execution_count": 29,
   "id": "4251a71a",
   "metadata": {},
   "outputs": [
    {
     "ename": "TypeError",
     "evalue": "'float' object does not support item assignment",
     "output_type": "error",
     "traceback": [
      "\u001b[1;31m---------------------------------------------------------------------------\u001b[0m",
      "\u001b[1;31mTypeError\u001b[0m                                 Traceback (most recent call last)",
      "Cell \u001b[1;32mIn[29], line 3\u001b[0m\n\u001b[0;32m      1\u001b[0m a \u001b[38;5;241m=\u001b[39m \u001b[38;5;241m9.78\u001b[39m\n\u001b[1;32m----> 3\u001b[0m a[\u001b[38;5;241m0\u001b[39m] \u001b[38;5;241m=\u001b[39m \u001b[38;5;241m4\u001b[39m\n",
      "\u001b[1;31mTypeError\u001b[0m: 'float' object does not support item assignment"
     ]
    }
   ],
   "source": [
    "a = 9.78\n",
    "\n",
    "a[0] = 4"
   ]
  },
  {
   "cell_type": "markdown",
   "id": "b7534565",
   "metadata": {},
   "source": [
    "##### **IMPLICAÇÕES DA IMUTABILIDADE**\n",
    "\n",
    "1. **Reatribuição: **\n",
    "\n",
    "    Se você deseja alterar o valor de uma variável numérica, precisa reatribuir um novo valor à variável. Isso cria uma nova referência para a variável."
   ]
  },
  {
   "cell_type": "code",
   "execution_count": 30,
   "id": "04b731f0",
   "metadata": {},
   "outputs": [
    {
     "name": "stdout",
     "output_type": "stream",
     "text": [
      "5\n"
     ]
    }
   ],
   "source": [
    "a = 4\n",
    "\n",
    "a = a + 1\n",
    "\n",
    "print (a)"
   ]
  },
  {
   "cell_type": "markdown",
   "id": "2f2d66e9",
   "metadata": {},
   "source": [
    "2. **Operações matemáticas: **\n",
    "\n",
    "    As operações matemáticas não modificam diretamente a variável, mas criam um novo valor calculado."
   ]
  },
  {
   "cell_type": "code",
   "execution_count": 35,
   "id": "9708c3c3",
   "metadata": {},
   "outputs": [
    {
     "name": "stdout",
     "output_type": "stream",
     "text": [
      "19.56\n"
     ]
    }
   ],
   "source": [
    "a = 9.78\n",
    "\n",
    "a = a * 2\n",
    "\n",
    "print(a)"
   ]
  },
  {
   "cell_type": "markdown",
   "id": "41f1f5df",
   "metadata": {},
   "source": [
    "3. **Objetos imutáveis: **\n",
    "\n",
    "    A imutabilidade se estende a outros tipos de dados imutáveis em Python, como strings e tuplas. Isso tem implicações em termos de como esses objetos são manipulados e passados entre funções."
   ]
  },
  {
   "cell_type": "code",
   "execution_count": 36,
   "id": "564970e6",
   "metadata": {},
   "outputs": [
    {
     "ename": "TypeError",
     "evalue": "'str' object does not support item assignment",
     "output_type": "error",
     "traceback": [
      "\u001b[1;31m---------------------------------------------------------------------------\u001b[0m",
      "\u001b[1;31mTypeError\u001b[0m                                 Traceback (most recent call last)",
      "Cell \u001b[1;32mIn[36], line 3\u001b[0m\n\u001b[0;32m      1\u001b[0m s \u001b[38;5;241m=\u001b[39m \u001b[38;5;124m\"\u001b[39m\u001b[38;5;124mString\u001b[39m\u001b[38;5;124m\"\u001b[39m\n\u001b[1;32m----> 3\u001b[0m s[\u001b[38;5;241m0\u001b[39m] \u001b[38;5;241m=\u001b[39m \u001b[38;5;124m\"\u001b[39m\u001b[38;5;124mS\u001b[39m\u001b[38;5;124m\"\u001b[39m\n",
      "\u001b[1;31mTypeError\u001b[0m: 'str' object does not support item assignment"
     ]
    }
   ],
   "source": [
    "s = \"String\"\n",
    "\n",
    "s[0] = \"S\""
   ]
  },
  {
   "cell_type": "markdown",
   "id": "aae3606e",
   "metadata": {},
   "source": [
    "4. **Eficiência e segurança: **\n",
    "\n",
    "    A imutabilidade permite otimizações de desempenho, já que os valores não precisam ser constantemente realocados na memória quando são modificados. Além disso, ela contribui para a segurança do código, evitando modificações acidentais."
   ]
  },
  {
   "cell_type": "markdown",
   "id": "cf8e0a09",
   "metadata": {},
   "source": [
    "        4. Verifique quais métodos estão disponíveis para as variáveis inteiras; "
   ]
  },
  {
   "cell_type": "markdown",
   "id": "2b4f6cb1",
   "metadata": {},
   "source": [
    "1. **bit_length()**\n",
    "\n",
    "    Retorna o número mínimo de bits necessário para representar o valor em binário, excluindo o sinal e os zeros à esquerda."
   ]
  },
  {
   "cell_type": "code",
   "execution_count": 37,
   "id": "29ee8cd6",
   "metadata": {},
   "outputs": [
    {
     "name": "stdout",
     "output_type": "stream",
     "text": [
      "4\n"
     ]
    }
   ],
   "source": [
    "f = 14\n",
    "\n",
    "print(f.bit_length())"
   ]
  },
  {
   "cell_type": "markdown",
   "id": "20bea3df",
   "metadata": {},
   "source": [
    "2. **to_bytes(length, byteorder, *, signed=False)**\n",
    "\n",
    "    Converte o número para uma sequência de bytes."
   ]
  },
  {
   "cell_type": "code",
   "execution_count": 38,
   "id": "e158f6bc",
   "metadata": {},
   "outputs": [
    {
     "name": "stdout",
     "output_type": "stream",
     "text": [
      "b'\\x0b;'\n"
     ]
    }
   ],
   "source": [
    "f = 2875\n",
    "\n",
    "ex_byte = f.to_bytes(2, byteorder='big')\n",
    "\n",
    "print(ex_byte)"
   ]
  },
  {
   "cell_type": "markdown",
   "id": "db5c246a",
   "metadata": {},
   "source": [
    "3. **from_bytes(bytes, byteorder, *, signed=False)**\n",
    "\n",
    "    Converte uma sequência de bytes de volta para um número inteiro."
   ]
  },
  {
   "cell_type": "code",
   "execution_count": 39,
   "id": "30ac5760",
   "metadata": {},
   "outputs": [
    {
     "name": "stdout",
     "output_type": "stream",
     "text": [
      "2875\n"
     ]
    }
   ],
   "source": [
    "h = int.from_bytes(ex_byte, byteorder='big')\n",
    "\n",
    "print(h)"
   ]
  },
  {
   "cell_type": "markdown",
   "id": "dfe526f8",
   "metadata": {},
   "source": [
    "4. **conjugate()**\n",
    "\n",
    "    Retorna o conjugado do número complexo se o número for complexo (parte imaginária diferente de zero)."
   ]
  },
  {
   "cell_type": "code",
   "execution_count": 51,
   "id": "06ee16b1",
   "metadata": {},
   "outputs": [
    {
     "name": "stdout",
     "output_type": "stream",
     "text": [
      "14\n"
     ]
    }
   ],
   "source": [
    "f = 5\n",
    "h = x.conjugate()\n",
    "\n",
    "print(h)"
   ]
  },
  {
   "cell_type": "markdown",
   "id": "f942aff6",
   "metadata": {},
   "source": [
    "5. **real**\n",
    "\n",
    "    Retorna a parte real do número complexo."
   ]
  },
  {
   "cell_type": "code",
   "execution_count": 48,
   "id": "75fc0df4",
   "metadata": {},
   "outputs": [
    {
     "name": "stdout",
     "output_type": "stream",
     "text": [
      "2.0\n"
     ]
    }
   ],
   "source": [
    "f = 2 + 5j\n",
    "nmr_real = f.real\n",
    "\n",
    "print(nmr_real)"
   ]
  },
  {
   "cell_type": "markdown",
   "id": "7b1a07b1",
   "metadata": {},
   "source": [
    "6. **imag**\n",
    "\n",
    "    Retorna a parte imaginária do número complexo."
   ]
  },
  {
   "cell_type": "code",
   "execution_count": 49,
   "id": "11a5bfdf",
   "metadata": {},
   "outputs": [
    {
     "name": "stdout",
     "output_type": "stream",
     "text": [
      "5.0\n"
     ]
    }
   ],
   "source": [
    "f = 2 + 5j\n",
    "nmr_imag = f.imag\n",
    "\n",
    "print(nmr_imag)"
   ]
  },
  {
   "cell_type": "markdown",
   "id": "34992daf",
   "metadata": {},
   "source": [
    "7. **abs()**\n",
    "\n",
    "    Retorna o valor absoluto do número."
   ]
  },
  {
   "cell_type": "code",
   "execution_count": 50,
   "id": "75b5123b",
   "metadata": {},
   "outputs": [
    {
     "name": "stdout",
     "output_type": "stream",
     "text": [
      "10\n"
     ]
    }
   ],
   "source": [
    "f = -10\n",
    "nmr_abs = abs(f)\n",
    "\n",
    "print(nmr_abs)"
   ]
  },
  {
   "cell_type": "markdown",
   "id": "546e0306",
   "metadata": {},
   "source": [
    "8. **__add__(other)**\n",
    "\n",
    "    Adiciona o valor de outro número."
   ]
  },
  {
   "cell_type": "code",
   "execution_count": 55,
   "id": "18e004f2",
   "metadata": {},
   "outputs": [
    {
     "name": "stdout",
     "output_type": "stream",
     "text": [
      "11\n"
     ]
    }
   ],
   "source": [
    "f = 6\n",
    "h = 5\n",
    "resultado = f.__add__(h)\n",
    "\n",
    "print(resultado)"
   ]
  },
  {
   "cell_type": "markdown",
   "id": "fd155bd0",
   "metadata": {},
   "source": [
    "9. **__sub__(other)**\n",
    "\n",
    "    Subtrai o valor de outro número."
   ]
  },
  {
   "cell_type": "code",
   "execution_count": 56,
   "id": "9f8be0f9",
   "metadata": {},
   "outputs": [
    {
     "name": "stdout",
     "output_type": "stream",
     "text": [
      "1\n"
     ]
    }
   ],
   "source": [
    "f = 6\n",
    "h = 5\n",
    "resultado = f.__sub__(h)\n",
    "\n",
    "print(resultado)"
   ]
  },
  {
   "cell_type": "markdown",
   "id": "109d8b92",
   "metadata": {},
   "source": [
    "10. **__mul__(other)**\n",
    "\n",
    "    Multiplica o valor por outro número."
   ]
  },
  {
   "cell_type": "code",
   "execution_count": 57,
   "id": "6cbce283",
   "metadata": {},
   "outputs": [
    {
     "name": "stdout",
     "output_type": "stream",
     "text": [
      "30\n"
     ]
    }
   ],
   "source": [
    "f = 6\n",
    "h = 5\n",
    "resultado = f.__mul__(h)\n",
    "\n",
    "print(resultado)"
   ]
  },
  {
   "cell_type": "markdown",
   "id": "d6d0ef1f",
   "metadata": {},
   "source": [
    "11. **__truediv__(other)**\n",
    "\n",
    "    Divide o valor por outro número, retornando um resultado de ponto flutuante."
   ]
  },
  {
   "cell_type": "code",
   "execution_count": 58,
   "id": "b87f8bfe",
   "metadata": {},
   "outputs": [
    {
     "name": "stdout",
     "output_type": "stream",
     "text": [
      "1.2\n"
     ]
    }
   ],
   "source": [
    "f = 6\n",
    "h = 5\n",
    "resultado = f.__truediv__(h)\n",
    "\n",
    "print(resultado)"
   ]
  },
  {
   "cell_type": "markdown",
   "id": "db4fc443",
   "metadata": {},
   "source": [
    "12. **__floordiv__(other)**\n",
    "\n",
    "    Divide o valor por outro número, retornando a parte inteira do resultado."
   ]
  },
  {
   "cell_type": "code",
   "execution_count": 59,
   "id": "38b51bae",
   "metadata": {},
   "outputs": [
    {
     "name": "stdout",
     "output_type": "stream",
     "text": [
      "1\n"
     ]
    }
   ],
   "source": [
    "f = 6\n",
    "h = 5\n",
    "resultado = f.__floordiv__(h)\n",
    "\n",
    "print(resultado)"
   ]
  },
  {
   "cell_type": "markdown",
   "id": "600afcb6",
   "metadata": {},
   "source": [
    "13. **__mod__(other)**\n",
    "\n",
    "    Retorna o resto da divisão entre o valor e outro número."
   ]
  },
  {
   "cell_type": "code",
   "execution_count": 60,
   "id": "3009ed6e",
   "metadata": {},
   "outputs": [
    {
     "name": "stdout",
     "output_type": "stream",
     "text": [
      "1\n"
     ]
    }
   ],
   "source": [
    "f = 6\n",
    "h = 5\n",
    "resultado = f.__mod__(h)\n",
    "\n",
    "print(resultado)"
   ]
  },
  {
   "cell_type": "markdown",
   "id": "b1bbb091",
   "metadata": {},
   "source": [
    "**Esses são apenas alguns dos métodos mais usados associados a objetos do tipo int em Python. A documentação oficial do Python oferece uma lista completa e detalhada de métodos e operadores disponíveis para objetos inteiros.**"
   ]
  },
  {
   "cell_type": "markdown",
   "id": "10f2a5f7",
   "metadata": {},
   "source": [
    "## Exercício 3: Manipulação de variáveis de tipo string e explorando o uso de print.\n",
    "\n",
    "   * Os caracteres numéricos aparecem na tabela ASCII, e em outras, numa sequência que começa pelo caractere ‘0’ até o caractere ‘9’. As strings em Python são formadas por conjuntos de caracteres que podem ser tratadas também como valores numéricos. Com base nestas afirmações desenvolva um programa em Python que:\n",
    "   \n",
    "        1. Imprima na tela, utilizando print, cada um dos caracteres numéricos e seu correspondente código numérico. Pesquise como modificar o comportamento do print para imprimir como caractere e como número. Exemplo:‘0’ - 48, ‘1’ - 49 … ‘9’ - 57\n",
    "\n",
    "        2. Modifique o exercício anterior para que a saída imprima também o código numérico em octal e em hexadecimal.\n",
    "\n",
    "        3. Acrescente ao código do exercício anterior a possibilidade de ler um caractere qualquer e imprima no mesmo formato do inciso anterior. Pesquise como ler um valor da entrada padrão.\n",
    "\n",
    "        4. Pesquise como trabalha Python os caracteres especiais, ‘ç’ e ‘ã’ por exemplo. Acrescente no código do exercício anterior um exemplo que demonstra como usar este recurso.\n"
   ]
  },
  {
   "cell_type": "markdown",
   "id": "28756096",
   "metadata": {},
   "source": [
    "##### 1."
   ]
  },
  {
   "cell_type": "code",
   "execution_count": 21,
   "id": "fb353b75",
   "metadata": {},
   "outputs": [
    {
     "name": "stdout",
     "output_type": "stream",
     "text": [
      "O caracter 0 tem o seguinte código numérico: 48\n",
      "O caracter 1 tem o seguinte código numérico: 49\n",
      "O caracter 2 tem o seguinte código numérico: 50\n",
      "O caracter 3 tem o seguinte código numérico: 51\n",
      "O caracter 4 tem o seguinte código numérico: 52\n",
      "O caracter 5 tem o seguinte código numérico: 53\n",
      "O caracter 6 tem o seguinte código numérico: 54\n",
      "O caracter 7 tem o seguinte código numérico: 55\n",
      "O caracter 8 tem o seguinte código numérico: 56\n",
      "O caracter 9 tem o seguinte código numérico: 57\n"
     ]
    }
   ],
   "source": [
    "caracteresNumericos = {\"0\", \"1\", \"2\", \"3\", \"4\", \"5\", \"6\", \"7\", \"8\", \"9\"}\n",
    "\n",
    "caracteresNumericosOrdenados = sorted(caracteresNumericos)\n",
    "\n",
    "for x in caracteresNumericosOrdenados:\n",
    "    print(\"O caracter \" +  x + \" tem o seguinte código numérico: \" + str(ord(x)))\n"
   ]
  },
  {
   "cell_type": "markdown",
   "id": "77b8b470",
   "metadata": {},
   "source": [
    "##### 2."
   ]
  },
  {
   "cell_type": "code",
   "execution_count": 53,
   "id": "4e2a6432",
   "metadata": {},
   "outputs": [
    {
     "name": "stdout",
     "output_type": "stream",
     "text": [
      "O caracter 0 tem 48 como código numérico, 60 como octal e 0x30 como hexadecimal!\n",
      "O caracter 1 tem 49 como código numérico, 61 como octal e 0x31 como hexadecimal!\n",
      "O caracter 2 tem 50 como código numérico, 62 como octal e 0x32 como hexadecimal!\n",
      "O caracter 3 tem 51 como código numérico, 63 como octal e 0x33 como hexadecimal!\n",
      "O caracter 4 tem 52 como código numérico, 64 como octal e 0x34 como hexadecimal!\n",
      "O caracter 5 tem 53 como código numérico, 65 como octal e 0x35 como hexadecimal!\n",
      "O caracter 6 tem 54 como código numérico, 66 como octal e 0x36 como hexadecimal!\n",
      "O caracter 7 tem 55 como código numérico, 67 como octal e 0x37 como hexadecimal!\n",
      "O caracter 8 tem 56 como código numérico, 70 como octal e 0x38 como hexadecimal!\n",
      "O caracter 9 tem 57 como código numérico, 71 como octal e 0x39 como hexadecimal!\n"
     ]
    }
   ],
   "source": [
    "caracteresNumericos = {\"0\", \"1\", \"2\", \"3\", \"4\", \"5\", \"6\", \"7\", \"8\", \"9\"}\n",
    "\n",
    "caracteresNumericosOrdenados = sorted(caracteresNumericos)\n",
    "\n",
    "for x in caracteresNumericosOrdenados:\n",
    "    print(\"O caracter \" +  x + \" tem \" + str(ord(x)) + \" como código numérico, \" + oct(ord(x))[2:] + \" como octal e \" + hex(ord(x)) + \" como hexadecimal!\")\n",
    "    "
   ]
  },
  {
   "cell_type": "markdown",
   "id": "c2a7a428",
   "metadata": {},
   "source": [
    "##### 3."
   ]
  },
  {
   "cell_type": "code",
   "execution_count": 52,
   "id": "03d16045",
   "metadata": {},
   "outputs": [
    {
     "name": "stdout",
     "output_type": "stream",
     "text": [
      "Digite um número de 0 a 9 para conversão: 9\n",
      "Escolha uma opção: \n",
      "1. Conversão para código numérico\n",
      "2. Conversão para octal\n",
      "3. Conversão para hexadecimal\n",
      "Opção: 2\n",
      "O número 9 tem o seguinte octal: 71\n"
     ]
    }
   ],
   "source": [
    "caracterNumerico = str((input(\"Digite um número de 0 a 9 para conversão: \")))\n",
    "\n",
    "print('''Escolha uma opção: \n",
    "1. Conversão para código numérico\n",
    "2. Conversão para octal\n",
    "3. Conversão para hexadecimal''')\n",
    "\n",
    "opcao = int(input(\"Opção: \"))\n",
    "\n",
    "if opcao == 1:\n",
    "    print(\"O número \" + caracterNumerico + \" tem o seguinte código numérico: \" + str(ord(caracterNumerico)))\n",
    "elif opcao == 2:\n",
    "    print(\"O número \" + caracterNumerico + \" tem o seguinte octal: \" + oct(ord(caracterNumerico))[2:])\n",
    "elif opcao == 3:\n",
    "    print(\"O número \" + caracterNumerico + \" tem o seguinte hexadecimal: \" + hex(ord(caracterNumerico)))\n",
    "else:\n",
    "    print(\"Opção errada, tente novamente!\")"
   ]
  },
  {
   "cell_type": "markdown",
   "id": "40d74f87",
   "metadata": {},
   "source": [
    "##### 4."
   ]
  },
  {
   "cell_type": "code",
   "execution_count": 60,
   "id": "c0f7df16",
   "metadata": {},
   "outputs": [
    {
     "name": "stdout",
     "output_type": "stream",
     "text": [
      "Digite um número de 0 a 9 para conversão: 1\n",
      "Escolha uma opção: \n",
      "1. Conversão para código numérico\n",
      "2. Conversão para octal\n",
      "3. Conversão para hexadecimal\n",
      "4. Exemplo de caracteres especiais\n",
      "Opção: 4\n",
      "Os códigos numéricos de ç e ã respectivamente são: 231 e 227\n"
     ]
    }
   ],
   "source": [
    "caracterNumerico = str((input(\"Digite um número de 0 a 9 para conversão: \")))\n",
    "\n",
    "esp1 = \"ç\"\n",
    "esp2 = \"ã\"\n",
    "\n",
    "print('''Escolha uma opção: \n",
    "1. Conversão para código numérico\n",
    "2. Conversão para octal\n",
    "3. Conversão para hexadecimal\n",
    "4. Exemplo de caracteres especiais''')\n",
    " \n",
    "\n",
    "opcao = int(input(\"Opção: \"))\n",
    "\n",
    "if opcao == 1:\n",
    "    print(\"O número \" + caracterNumerico + \" tem o seguinte código numérico: \" + str(ord(caracterNumerico)))\n",
    "elif opcao == 2:\n",
    "    print(\"O número \" + caracterNumerico + \" tem o seguinte octal: \" + oct(ord(caracterNumerico))[2:])\n",
    "elif opcao == 3:\n",
    "    print(\"O número \" + caracterNumerico + \" tem o seguinte hexadecimal: \" + hex(ord(caracterNumerico)))\n",
    "elif opcao == 4:\n",
    "    print(\"Os códigos numéricos de \" + esp1 + \" e \" + esp2 + \" respectivamente são: \" + str(ord(esp1)) + \" e \" + str(ord(esp2)))\n",
    "else:    \n",
    "    print(\"Opção errada, tente novamente!\")"
   ]
  },
  {
   "cell_type": "markdown",
   "id": "71ff7edb",
   "metadata": {},
   "source": [
    "**Python 3 por padrão já trabalha em UTF-8 e reconhece caracteres especiais.**"
   ]
  },
  {
   "cell_type": "markdown",
   "id": "2865ca55",
   "metadata": {},
   "source": [
    "## Exercício 4: Manipulação de variáveis de tipo string e explorando os métodos da classe.\n",
    "\n",
    "   * As variáveis de tipo string possuem uma série de funcionalidades já implementadas e seus caracteres e substrings podem ser acessados usando indexação e slicing. Crie um exemplo onde:\n",
    "   \n",
    "        1. Declare uma variável nome atribuindo a ela seu nome completo;\n",
    "        \n",
    "        2. Pesquise por funcionalidades já implementadas nas strings e separe em duas variáveis novas seu nome do seu sobrenome;\n",
    "        \n",
    "        3. Verifique qual das duas novas variáveis antecede a outra na ordem alfabética;\n",
    "        \n",
    "        4. Verifique a quantidade de caracteres de cada uma das novas variáveis;\n",
    "        \n",
    "        5. Verifique se seu nome é uma palíndromo;"
   ]
  },
  {
   "cell_type": "markdown",
   "id": "ab460edb",
   "metadata": {},
   "source": [
    "##### 1."
   ]
  },
  {
   "cell_type": "code",
   "execution_count": 61,
   "id": "ea0f85cd",
   "metadata": {},
   "outputs": [
    {
     "name": "stdout",
     "output_type": "stream",
     "text": [
      "Ian Rodrigues Alexandrino\n"
     ]
    }
   ],
   "source": [
    "nome = \"Ian Rodrigues Alexandrino\"\n",
    "\n",
    "print(nome)"
   ]
  },
  {
   "cell_type": "markdown",
   "id": "77633194",
   "metadata": {},
   "source": [
    "##### 2."
   ]
  },
  {
   "cell_type": "code",
   "execution_count": 73,
   "id": "d8f05c1d",
   "metadata": {},
   "outputs": [
    {
     "name": "stdout",
     "output_type": "stream",
     "text": [
      "['Ian'] ['Rodrigues Alexandrino']\n"
     ]
    }
   ],
   "source": [
    "meuNome = \"Ian Rodrigues Alexandrino\"\n",
    "\n",
    "nome = meuNome.split(\" Rodrigues Alexandrino\")\n",
    "sobrenome = meuNome.split(\"Ian \")\n",
    "\n",
    "nome.remove(\"\")\n",
    "sobrenome.remove(\"\")\n",
    "\n",
    "print(nome, sobrenome)"
   ]
  },
  {
   "cell_type": "markdown",
   "id": "567de0ea",
   "metadata": {},
   "source": [
    "##### 3."
   ]
  },
  {
   "cell_type": "code",
   "execution_count": 77,
   "id": "179eced0",
   "metadata": {},
   "outputs": [
    {
     "name": "stdout",
     "output_type": "stream",
     "text": [
      "['Ian', 'Rodrigues Alexandrino']\n"
     ]
    }
   ],
   "source": [
    "meuNome = \"Ian Rodrigues Alexandrino\"\n",
    "\n",
    "nome = meuNome.split(\" Rodrigues Alexandrino\")\n",
    "sobrenome = meuNome.split(\"Ian \")\n",
    "\n",
    "nome.remove(\"\")\n",
    "sobrenome.remove(\"\")\n",
    "\n",
    "novoNome = sobrenome + nome\n",
    "novoNome.sort()\n",
    "\n",
    "print(novoNome)"
   ]
  },
  {
   "cell_type": "markdown",
   "id": "3bcbf898",
   "metadata": {},
   "source": [
    "##### 4."
   ]
  },
  {
   "cell_type": "code",
   "execution_count": 96,
   "id": "638b42db",
   "metadata": {},
   "outputs": [
    {
     "name": "stdout",
     "output_type": "stream",
     "text": [
      "A variável nome tem 3 letras e a variável sobrenome tem 20 letras\n"
     ]
    }
   ],
   "source": [
    "meuNome = \"Ian Rodrigues Alexandrino\"\n",
    "\n",
    "nome = meuNome.split(\" Rodrigues Alexandrino\")\n",
    "sobrenome = meuNome.split(\"Ian \")\n",
    "\n",
    "nome.remove(\"\")\n",
    "sobrenome.remove(\"\")\n",
    "\n",
    "nome = ', '.join(nome)\n",
    "sobrenome = ', '.join(sobrenome)\n",
    "\n",
    "print(\"A variável nome tem \" + str(len(nome)) + \" letras e a variável sobrenome tem \" + str(len(sobrenome) -1) + \" letras\")"
   ]
  },
  {
   "cell_type": "markdown",
   "id": "2b9964bf",
   "metadata": {},
   "source": [
    "##### 5."
   ]
  },
  {
   "cell_type": "code",
   "execution_count": 102,
   "id": "41682573",
   "metadata": {},
   "outputs": [
    {
     "name": "stdout",
     "output_type": "stream",
     "text": [
      "Infelizmente o meu nome não é um palíndromo: Ian Rodrigues Alexandrino onirdnaxelA seugirdoR naI\n"
     ]
    }
   ],
   "source": [
    "meuNome = \"Ian Rodrigues Alexandrino\"\n",
    "\n",
    "nome = meuNome.split(\" Rodrigues Alexandrino\")\n",
    "sobrenome = meuNome.split(\"Ian \")\n",
    "\n",
    "nome.remove(\"\")\n",
    "sobrenome.remove(\"\")\n",
    "\n",
    "nome = ', '.join(nome)\n",
    "sobrenome = ', '.join(sobrenome)\n",
    "\n",
    "print(\"Infelizmente o meu nome não é um palíndromo: \" + nome + \" \" + sobrenome + \" \" + sobrenome[:: -1] + \" \" + nome[:: -1])"
   ]
  },
  {
   "cell_type": "markdown",
   "id": "6a3e481b",
   "metadata": {},
   "source": [
    "## Exercício 5: Manipulação de variáveis de ponto flutuante, explorando as características e os limites.\n",
    "\n",
    "   * Durante a aula foi apresentado o tipo de dado que permite representar um subconjunto dos números de ponto flutuante. Sobre estes tipos de dados:\n",
    "        \n",
    "        1. Demonstre como funcionam os operadores aritméticos e aritméticos compostos em Python;"
   ]
  },
  {
   "cell_type": "markdown",
   "id": "5298ad70",
   "metadata": {},
   "source": []
  }
 ],
 "metadata": {
  "kernelspec": {
   "display_name": "Python 3 (ipykernel)",
   "language": "python",
   "name": "python3"
  },
  "language_info": {
   "codemirror_mode": {
    "name": "ipython",
    "version": 3
   },
   "file_extension": ".py",
   "mimetype": "text/x-python",
   "name": "python",
   "nbconvert_exporter": "python",
   "pygments_lexer": "ipython3",
   "version": "3.11.5"
  }
 },
 "nbformat": 4,
 "nbformat_minor": 5
}
