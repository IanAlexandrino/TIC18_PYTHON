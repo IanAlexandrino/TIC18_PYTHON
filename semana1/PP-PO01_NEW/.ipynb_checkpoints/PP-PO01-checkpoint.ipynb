{
 "cells": [
  {
   "cell_type": "markdown",
   "id": "42abf4d6",
   "metadata": {},
   "source": [
    "## Exercício 2: Manipulação de variáveis de tipo inteiro, explorando as características e os limites.\n",
    "\n",
    "   * Durante a aula foi apresentado o tipo de dado que permite representar um subconjunto dos números inteiros. Sobre estes tipos de dados:\n",
    "    \n",
    "        1. Demonstre como funcionam os operadores aritméticos e aritméticos compostos em Python e destaque as principais novidades e diferenças em relação ao conjunto de operadores com inteiros disponíveis em **C/C++**;"
   ]
  },
  {
   "cell_type": "markdown",
   "id": "42370719",
   "metadata": {},
   "source": [
    "##### **OPERADORES ARITMÉTICOS**"
   ]
  },
  {
   "cell_type": "code",
   "execution_count": 14,
   "id": "dac24ae1",
   "metadata": {},
   "outputs": [
    {
     "name": "stdout",
     "output_type": "stream",
     "text": [
      "13\n"
     ]
    }
   ],
   "source": [
    "# Adição (+)\n",
    "\n",
    "a = 4\n",
    "b = 9\n",
    "resultado = a + b\n",
    "\n",
    "print(resultado)\n"
   ]
  },
  {
   "cell_type": "code",
   "execution_count": 4,
   "id": "3f43cd4e",
   "metadata": {},
   "outputs": [
    {
     "name": "stdout",
     "output_type": "stream",
     "text": [
      "5\n"
     ]
    }
   ],
   "source": [
    "# Subtração (-)\n",
    "\n",
    "a = 9\n",
    "b = 4\n",
    "resultado = a - b\n",
    "\n",
    "print(resultado)\n"
   ]
  },
  {
   "cell_type": "code",
   "execution_count": 5,
   "id": "6cc7f510",
   "metadata": {},
   "outputs": [
    {
     "name": "stdout",
     "output_type": "stream",
     "text": [
      "36\n"
     ]
    }
   ],
   "source": [
    "# Multiplicação (*)\n",
    "\n",
    "a = 4\n",
    "b = 9\n",
    "resultado = a * b\n",
    "\n",
    "print(resultado)\n"
   ]
  },
  {
   "cell_type": "code",
   "execution_count": 6,
   "id": "d25d4dfd",
   "metadata": {},
   "outputs": [
    {
     "name": "stdout",
     "output_type": "stream",
     "text": [
      "0.4444444444444444\n"
     ]
    }
   ],
   "source": [
    "# Divisão (/)\n",
    "\n",
    "a = 9\n",
    "b = 4\n",
    "resultado = a / b\n",
    "\n",
    "print(resultado)\n"
   ]
  },
  {
   "cell_type": "code",
   "execution_count": 7,
   "id": "aa75f516",
   "metadata": {},
   "outputs": [
    {
     "name": "stdout",
     "output_type": "stream",
     "text": [
      "0\n"
     ]
    }
   ],
   "source": [
    "# Divisão Inteira (//)\n",
    "\n",
    "a = 9\n",
    "b = 4\n",
    "resultado = a // b\n",
    "\n",
    "print(resultado)\n"
   ]
  },
  {
   "cell_type": "code",
   "execution_count": 8,
   "id": "29285d8c",
   "metadata": {},
   "outputs": [
    {
     "name": "stdout",
     "output_type": "stream",
     "text": [
      "4\n"
     ]
    }
   ],
   "source": [
    "# Módulo (%)\n",
    "\n",
    "a = 4\n",
    "b = 9\n",
    "resultado = a % b\n",
    "\n",
    "print(resultado)\n"
   ]
  },
  {
   "cell_type": "code",
   "execution_count": 10,
   "id": "d8f13296",
   "metadata": {},
   "outputs": [
    {
     "name": "stdout",
     "output_type": "stream",
     "text": [
      "6561\n"
     ]
    }
   ],
   "source": [
    "# Potenciação (**)\n",
    "\n",
    "a = 9\n",
    "b = 4\n",
    "resultado = a ** b\n",
    "\n",
    "print(resultado)\n"
   ]
  },
  {
   "cell_type": "markdown",
   "id": "a63f9a7d",
   "metadata": {},
   "source": [
    "##### **OPERADORES ARITMÉTICOS COMPOSTOS**\n",
    "\n",
    "Os operadores compostos são uma forma concisa de realizar operações aritméticas e atribuições em uma única expressão."
   ]
  },
  {
   "cell_type": "code",
   "execution_count": 13,
   "id": "4b0aa712",
   "metadata": {},
   "outputs": [
    {
     "name": "stdout",
     "output_type": "stream",
     "text": [
      "13\n"
     ]
    }
   ],
   "source": [
    "# Adição e atribuição (+=)\n",
    "\n",
    "a = 4\n",
    "b = 9\n",
    "\n",
    "a += b\n",
    "\n",
    "print(a)\n"
   ]
  },
  {
   "cell_type": "code",
   "execution_count": 16,
   "id": "002ea360",
   "metadata": {},
   "outputs": [
    {
     "name": "stdout",
     "output_type": "stream",
     "text": [
      "5\n"
     ]
    }
   ],
   "source": [
    "# Subtração e atribuição (-=)\n",
    "\n",
    "a = 9\n",
    "b = 4\n",
    "\n",
    "a -= b\n",
    "\n",
    "print(a)\n"
   ]
  },
  {
   "cell_type": "code",
   "execution_count": 17,
   "id": "306ebae8",
   "metadata": {},
   "outputs": [
    {
     "name": "stdout",
     "output_type": "stream",
     "text": [
      "36\n"
     ]
    }
   ],
   "source": [
    "# Multiplicação e atribuição (*=)\n",
    "\n",
    "a = 4\n",
    "b = 9\n",
    "\n",
    "a *= b\n",
    "\n",
    "print(a)\n"
   ]
  },
  {
   "cell_type": "code",
   "execution_count": 18,
   "id": "54b6aad3",
   "metadata": {},
   "outputs": [
    {
     "name": "stdout",
     "output_type": "stream",
     "text": [
      "2.25\n"
     ]
    }
   ],
   "source": [
    "# Divisão e atribuição (/=)\n",
    "\n",
    "a = 9\n",
    "b = 4\n",
    "\n",
    "a /= b\n",
    "\n",
    "print(a)\n"
   ]
  },
  {
   "cell_type": "code",
   "execution_count": 20,
   "id": "d66ced8c",
   "metadata": {},
   "outputs": [
    {
     "name": "stdout",
     "output_type": "stream",
     "text": [
      "2\n"
     ]
    }
   ],
   "source": [
    "# Divisão inteira e atribuição (//=)\n",
    "\n",
    "a = 9\n",
    "b = 4\n",
    "\n",
    "a //= b\n",
    "\n",
    "print(a)\n"
   ]
  },
  {
   "cell_type": "code",
   "execution_count": 21,
   "id": "11a4e0e0",
   "metadata": {},
   "outputs": [
    {
     "name": "stdout",
     "output_type": "stream",
     "text": [
      "4\n"
     ]
    }
   ],
   "source": [
    "# Módulo e atribuição (%=)\n",
    "\n",
    "a = 4\n",
    "b = 9\n",
    "\n",
    "a %= b\n",
    "\n",
    "print(a)\n"
   ]
  },
  {
   "cell_type": "code",
   "execution_count": 23,
   "id": "20ac331c",
   "metadata": {},
   "outputs": [
    {
     "name": "stdout",
     "output_type": "stream",
     "text": [
      "6561\n"
     ]
    }
   ],
   "source": [
    "# Potenciação e atribuição (**=)\n",
    "\n",
    "a = 9\n",
    "b = 4\n",
    "\n",
    "a **= b\n",
    "\n",
    "print(a)\n"
   ]
  },
  {
   "cell_type": "markdown",
   "id": "c683b684",
   "metadata": {},
   "source": [
    "##### **DIFERENÇAS EM RELAÇÃO A C/C++**\n",
    "\n",
    "1. **Divisão de inteiros: **\n",
    "\n",
    "    Em Python, o operador de divisão (/) entre dois inteiros retorna um resultado de ponto flutuante, enquanto em C/C++, a divisão de inteiros retorna um inteiro truncado.\n",
    "    \n",
    "2. **Divisão inteira: **\n",
    "\n",
    "    Em Python, o operador de divisão inteira (//) retorna um número de ponto flutuante se pelo menos um dos operandos for um número de ponto flutuante. Em C/C++, a divisão inteira sempre retorna um número inteiro.\n",
    "    \n",
    "3. **Operadores de potenciação: **\n",
    "\n",
    "    Python introduziu o operador de potenciação dupla (**) para facilitar o cálculo de potências.\n",
    "    \n",
    "4. **Operadores compostos: **\n",
    "\n",
    "    Python oferece operadores compostos (+=, -=, etc.) que são mais concisos do que em C/C++.\n",
    "    \n",
    "5. **Ausência de incrementos/decrementos: **\n",
    "\n",
    "    Python não possui operadores de incremento (++) e decremento (--), presentes em C/C++. Em Python, você usaria += 1 ou -= 1 para atingir o mesmo efeito.\n",
    "    \n",
    "6. **Tipo dinâmico: **\n",
    "\n",
    "    Python é uma linguagem de tipagem dinâmica, ao contrário de C/C++, o que significa que você não precisa declarar explicitamente o tipo de uma variável. Isso afeta a forma como as operações são realizadas e como os resultados são tratados."
   ]
  },
  {
   "cell_type": "markdown",
   "id": "f527c5c3",
   "metadata": {},
   "source": [
    "        2. Demonstre a possibilidade de representar números inteiros significativamente grandes calculando o fatorial de 30 e comparando o resultado com o maior valor inteiro que pode ser representado em **C/C++**;"
   ]
  },
  {
   "cell_type": "code",
   "execution_count": 24,
   "id": "da734163",
   "metadata": {},
   "outputs": [
    {
     "name": "stdout",
     "output_type": "stream",
     "text": [
      "O fatorial de 30 é: 265252859812191058636308480000000\n",
      "O maior valor inteiro em C/C++ é: 9223372036854775807\n"
     ]
    }
   ],
   "source": [
    "def fatorial(n):\n",
    "    if n == 0 or n == 1:\n",
    "        return 1\n",
    "    else:\n",
    "        return n * fatorial(n - 1)\n",
    "\n",
    "# Calcular o fatorial de 30\n",
    "fatorial_30 = fatorial(30)\n",
    "\n",
    "# Imprimir o resultado\n",
    "print(f'O fatorial de 30 é: {fatorial_30}')\n",
    "\n",
    "# Imprimir o maior valor inteiro em C/C++\n",
    "import sys\n",
    "print(f'O maior valor inteiro em C/C++ é: {sys.maxsize}')\n"
   ]
  },
  {
   "cell_type": "markdown",
   "id": "121c6a9b",
   "metadata": {},
   "source": [
    "**O fatorial de 30 em Python é muito maior que o maior valor inteiro representável em C/C++. Isso destaca a flexibilidade e a capacidade de lidar com números grandes em Python devido à sua precisão arbitrária para inteiros.**"
   ]
  },
  {
   "cell_type": "markdown",
   "id": "d636876b",
   "metadata": {},
   "source": [
    "        3. As variáveis numéricas são imutáveis. Demonstre com exemplos as implicações desta afirmação;"
   ]
  },
  {
   "cell_type": "markdown",
   "id": "e1fb1117",
   "metadata": {},
   "source": [
    "##### **EXEMPLO 1: IMUTABILIDADE DE INTEIROS**"
   ]
  },
  {
   "cell_type": "code",
   "execution_count": 28,
   "id": "65c712d8",
   "metadata": {},
   "outputs": [
    {
     "ename": "TypeError",
     "evalue": "'int' object does not support item assignment",
     "output_type": "error",
     "traceback": [
      "\u001b[1;31m---------------------------------------------------------------------------\u001b[0m",
      "\u001b[1;31mTypeError\u001b[0m                                 Traceback (most recent call last)",
      "Cell \u001b[1;32mIn[28], line 3\u001b[0m\n\u001b[0;32m      1\u001b[0m a \u001b[38;5;241m=\u001b[39m \u001b[38;5;241m4\u001b[39m\n\u001b[1;32m----> 3\u001b[0m a[\u001b[38;5;241m0\u001b[39m] \u001b[38;5;241m=\u001b[39m \u001b[38;5;241m5\u001b[39m\n\u001b[0;32m      5\u001b[0m \u001b[38;5;28mprint\u001b[39m(a)\n",
      "\u001b[1;31mTypeError\u001b[0m: 'int' object does not support item assignment"
     ]
    }
   ],
   "source": [
    "a = 4\n",
    "\n",
    "a[0] = 5\n"
   ]
  },
  {
   "cell_type": "markdown",
   "id": "2f9dffb0",
   "metadata": {},
   "source": [
    "##### **EXEMPLO 2: IMUTABILIDADE DE FLOATS**"
   ]
  },
  {
   "cell_type": "code",
   "execution_count": 29,
   "id": "2ba25841",
   "metadata": {},
   "outputs": [
    {
     "ename": "TypeError",
     "evalue": "'float' object does not support item assignment",
     "output_type": "error",
     "traceback": [
      "\u001b[1;31m---------------------------------------------------------------------------\u001b[0m",
      "\u001b[1;31mTypeError\u001b[0m                                 Traceback (most recent call last)",
      "Cell \u001b[1;32mIn[29], line 3\u001b[0m\n\u001b[0;32m      1\u001b[0m a \u001b[38;5;241m=\u001b[39m \u001b[38;5;241m9.78\u001b[39m\n\u001b[1;32m----> 3\u001b[0m a[\u001b[38;5;241m0\u001b[39m] \u001b[38;5;241m=\u001b[39m \u001b[38;5;241m4\u001b[39m\n",
      "\u001b[1;31mTypeError\u001b[0m: 'float' object does not support item assignment"
     ]
    }
   ],
   "source": [
    "a = 9.78\n",
    "\n",
    "a[0] = 4"
   ]
  },
  {
   "cell_type": "markdown",
   "id": "28956ea3",
   "metadata": {},
   "source": [
    "##### **IMPLICAÇÕES DA IMUTABILIDADE**\n",
    "\n",
    "1. **Reatribuição: **\n",
    "\n",
    "    Se você deseja alterar o valor de uma variável numérica, precisa reatribuir um novo valor à variável. Isso cria uma nova referência para a variável."
   ]
  },
  {
   "cell_type": "code",
   "execution_count": 30,
   "id": "848deddb",
   "metadata": {},
   "outputs": [
    {
     "name": "stdout",
     "output_type": "stream",
     "text": [
      "5\n"
     ]
    }
   ],
   "source": [
    "a = 4\n",
    "\n",
    "a = a + 1\n",
    "\n",
    "print (a)"
   ]
  },
  {
   "cell_type": "markdown",
   "id": "17473e94",
   "metadata": {},
   "source": [
    "2. **Operações matemáticas: **\n",
    "\n",
    "    As operações matemáticas não modificam diretamente a variável, mas criam um novo valor calculado."
   ]
  },
  {
   "cell_type": "code",
   "execution_count": 35,
   "id": "6ca2af5b",
   "metadata": {},
   "outputs": [
    {
     "name": "stdout",
     "output_type": "stream",
     "text": [
      "19.56\n"
     ]
    }
   ],
   "source": [
    "a = 9.78\n",
    "\n",
    "a = a * 2\n",
    "\n",
    "print(a)"
   ]
  },
  {
   "cell_type": "markdown",
   "id": "6d2ab98e",
   "metadata": {},
   "source": [
    "3. **Objetos imutáveis: **\n",
    "\n",
    "    A imutabilidade se estende a outros tipos de dados imutáveis em Python, como strings e tuplas. Isso tem implicações em termos de como esses objetos são manipulados e passados entre funções."
   ]
  },
  {
   "cell_type": "code",
   "execution_count": 36,
   "id": "4525662a",
   "metadata": {},
   "outputs": [
    {
     "ename": "TypeError",
     "evalue": "'str' object does not support item assignment",
     "output_type": "error",
     "traceback": [
      "\u001b[1;31m---------------------------------------------------------------------------\u001b[0m",
      "\u001b[1;31mTypeError\u001b[0m                                 Traceback (most recent call last)",
      "Cell \u001b[1;32mIn[36], line 3\u001b[0m\n\u001b[0;32m      1\u001b[0m s \u001b[38;5;241m=\u001b[39m \u001b[38;5;124m\"\u001b[39m\u001b[38;5;124mString\u001b[39m\u001b[38;5;124m\"\u001b[39m\n\u001b[1;32m----> 3\u001b[0m s[\u001b[38;5;241m0\u001b[39m] \u001b[38;5;241m=\u001b[39m \u001b[38;5;124m\"\u001b[39m\u001b[38;5;124mS\u001b[39m\u001b[38;5;124m\"\u001b[39m\n",
      "\u001b[1;31mTypeError\u001b[0m: 'str' object does not support item assignment"
     ]
    }
   ],
   "source": [
    "s = \"String\"\n",
    "\n",
    "s[0] = \"S\""
   ]
  },
  {
   "cell_type": "markdown",
   "id": "9415997e",
   "metadata": {},
   "source": [
    "4. **Eficiência e segurança: **\n",
    "\n",
    "    A imutabilidade permite otimizações de desempenho, já que os valores não precisam ser constantemente realocados na memória quando são modificados. Além disso, ela contribui para a segurança do código, evitando modificações acidentais."
   ]
  },
  {
   "cell_type": "markdown",
   "id": "c46f14f6",
   "metadata": {},
   "source": [
    "        4. Verifique quais métodos estão disponíveis para as variáveis inteiras; "
   ]
  },
  {
   "cell_type": "markdown",
   "id": "2da66080",
   "metadata": {},
   "source": [
    "1. **bit_length()**\n",
    "\n",
    "    Retorna o número mínimo de bits necessário para representar o valor em binário, excluindo o sinal e os zeros à esquerda."
   ]
  },
  {
   "cell_type": "code",
   "execution_count": 37,
   "id": "b7ce2239",
   "metadata": {},
   "outputs": [
    {
     "name": "stdout",
     "output_type": "stream",
     "text": [
      "4\n"
     ]
    }
   ],
   "source": [
    "f = 14\n",
    "\n",
    "print(f.bit_length())"
   ]
  },
  {
   "cell_type": "markdown",
   "id": "7699a7ee",
   "metadata": {},
   "source": [
    "2. **to_bytes(length, byteorder, *, signed=False)**\n",
    "\n",
    "    Converte o número para uma sequência de bytes."
   ]
  },
  {
   "cell_type": "code",
   "execution_count": 38,
   "id": "92192e25",
   "metadata": {},
   "outputs": [
    {
     "name": "stdout",
     "output_type": "stream",
     "text": [
      "b'\\x0b;'\n"
     ]
    }
   ],
   "source": [
    "f = 2875\n",
    "\n",
    "ex_byte = f.to_bytes(2, byteorder='big')\n",
    "\n",
    "print(ex_byte)"
   ]
  },
  {
   "cell_type": "markdown",
   "id": "0ec159a2",
   "metadata": {},
   "source": [
    "3. **from_bytes(bytes, byteorder, *, signed=False)**\n",
    "\n",
    "    Converte uma sequência de bytes de volta para um número inteiro."
   ]
  },
  {
   "cell_type": "code",
   "execution_count": 39,
   "id": "c98f7672",
   "metadata": {},
   "outputs": [
    {
     "name": "stdout",
     "output_type": "stream",
     "text": [
      "2875\n"
     ]
    }
   ],
   "source": [
    "h = int.from_bytes(ex_byte, byteorder='big')\n",
    "\n",
    "print(h)"
   ]
  },
  {
   "cell_type": "markdown",
   "id": "6c5f4b19",
   "metadata": {},
   "source": [
    "4. **conjugate()**\n",
    "\n",
    "    Retorna o conjugado do número complexo se o número for complexo (parte imaginária diferente de zero)."
   ]
  },
  {
   "cell_type": "code",
   "execution_count": 51,
   "id": "3793950b",
   "metadata": {},
   "outputs": [
    {
     "name": "stdout",
     "output_type": "stream",
     "text": [
      "14\n"
     ]
    }
   ],
   "source": [
    "f = 5\n",
    "h = x.conjugate()\n",
    "\n",
    "print(h)"
   ]
  },
  {
   "cell_type": "markdown",
   "id": "f610d4a5",
   "metadata": {},
   "source": [
    "5. **real**\n",
    "\n",
    "    Retorna a parte real do número complexo."
   ]
  },
  {
   "cell_type": "code",
   "execution_count": 48,
   "id": "d04790ae",
   "metadata": {},
   "outputs": [
    {
     "name": "stdout",
     "output_type": "stream",
     "text": [
      "2.0\n"
     ]
    }
   ],
   "source": [
    "f = 2 + 5j\n",
    "nmr_real = f.real\n",
    "\n",
    "print(nmr_real)"
   ]
  },
  {
   "cell_type": "markdown",
   "id": "8c97712e",
   "metadata": {},
   "source": [
    "6. **imag**\n",
    "\n",
    "    Retorna a parte imaginária do número complexo."
   ]
  },
  {
   "cell_type": "code",
   "execution_count": 49,
   "id": "90c9d2a9",
   "metadata": {},
   "outputs": [
    {
     "name": "stdout",
     "output_type": "stream",
     "text": [
      "5.0\n"
     ]
    }
   ],
   "source": [
    "f = 2 + 5j\n",
    "nmr_imag = f.imag\n",
    "\n",
    "print(nmr_imag)"
   ]
  },
  {
   "cell_type": "markdown",
   "id": "15fc3158",
   "metadata": {},
   "source": [
    "7. **__abs__()\n",
    "\n",
    "    Retorna o valor absoluto do número."
   ]
  },
  {
   "cell_type": "code",
   "execution_count": 50,
   "id": "e7191bdb",
   "metadata": {},
   "outputs": [
    {
     "name": "stdout",
     "output_type": "stream",
     "text": [
      "10\n"
     ]
    }
   ],
   "source": [
    "f = -10\n",
    "nmr_abs = abs(f)\n",
    "\n",
    "print(nmr_abs)"
   ]
  },
  {
   "cell_type": "markdown",
   "id": "30b70605",
   "metadata": {},
   "source": []
  }
 ],
 "metadata": {
  "kernelspec": {
   "display_name": "Python 3 (ipykernel)",
   "language": "python",
   "name": "python3"
  },
  "language_info": {
   "codemirror_mode": {
    "name": "ipython",
    "version": 3
   },
   "file_extension": ".py",
   "mimetype": "text/x-python",
   "name": "python",
   "nbconvert_exporter": "python",
   "pygments_lexer": "ipython3",
   "version": "3.11.5"
  }
 },
 "nbformat": 4,
 "nbformat_minor": 5
}
